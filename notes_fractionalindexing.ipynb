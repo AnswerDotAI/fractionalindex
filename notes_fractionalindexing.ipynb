{
 "cells": [
  {
   "cell_type": "markdown",
   "id": "6441a697",
   "metadata": {},
   "source": [
    "# FractionalIndex\n",
    "\n"
   ]
  },
  {
   "cell_type": "markdown",
   "id": "df182ab9",
   "metadata": {},
   "source": [
    "This library helps with using fractional indexes to manage a collection of items, like a sqlite table or a directory of files.\n",
    "\n",
    "What's a fractional index and why would you want it? Fractional indexes are _values_ designed to solve a particular problem: they let you manage an ordering over a set of items, via a key value for each item, in such a way that you can add a new item in between existing items without needing to update any item's key, and you can re-order a single item by updating only its key.\n",
    "\n",
    "This is useful in situations where you need item keys to be stable because it expensive to update them or because other systems depend on them.\n",
    "\n",
    "This library helps with two particular kinds of collections: rows in an sqlite table, or files in a directory.\n",
    "\n",
    "The library works by providing an  **indexer**. The indexer treats the collection of items as an **external resource**. It reads the resource, but never modifies it. You the user are responsible for adding items to the collection. Whenever you add an item, you get the **key** to use for the item from the indexer.\n",
    "\n",
    "## Example: sqlite, where a column holds a key\n",
    "\n",
    "For instance, say you wanted to insert a new row in the table `mytable` in sqlite, but you wanted to give it a key so that it would appear in between two existing rows, which have values `a0` and `b0` in the column `order_key`.\n",
    "\n",
    "You'd do it like so:\n",
    "\n",
    "```python\n",
    "from fractionalindex import SqliteIndexer\n",
    "\n",
    "# init an indexer\n",
    "sqliteindexer = SqliteIndexer(conn,'mytable', 'order_key')\n",
    "# generate a new key between existing, adjoining keys\n",
    "new_key = sqliteindexer.insert('a0','b0')\n",
    "# insert the row\n",
    "conn.execute(f'INSERT INTO mytable (order_key) VALUES (?)', (new_key,))\n",
    "```\n",
    "\n",
    "## Example: sqlite, where a column holds a key-derived name\n",
    "\n",
    "The indexer's `insert()` method returns the key which is used for fractional indexing.\n",
    "\n",
    "However, in your sqlite database, you might not want to use raw key values (like \"a0\") but instead prefer to use a **name** derived from a key, like \"msg-a0\".\n",
    "\n",
    "To do this, pass the **name-to-key** to the indexer, and construct the name yourself when adding an item to the db:\n",
    "\n",
    "```python\n",
    "def name_to_key(name): \n",
    "    return name.split('-')[1] if (name is not None and '-' in name) else None\n",
    "# init an indexer\n",
    "sqliteindexer = SqliteIndexer(conn,'mytable', 'order_key',name_to_key)\n",
    "# generate a new key between existing, adjoining keys\n",
    "new_key = sqliteindexer.insert('msg-a0','msg-b0')\n",
    "new_name = f\"msg-{new_key}\"\n",
    "# insert the row\n",
    "conn.execute(f'INSERT INTO mytable (order_key) VALUES (?)', (new_name,))\n",
    "```\n",
    "\n",
    "For sqlite, the library requires that the name ordering matches the key ordering, which will be the case with a constant prefix. But this is not required for the next example:\n",
    "\n",
    "\n",
    "## Example: files, with names derived from keys\n",
    "\n",
    "You can also use the library to define an ordering over a directory of files, like migration scripts.\n",
    "\n",
    "Let's say you want script to have names like  `foo-a0.txt`, where `a0` is the key part. Then you'd define this name-to-key mapping function:\n",
    "\n",
    "```python\n",
    "def get_filekey(name):\n",
    "    return name.sep(\".\")[0].sep(\"-\")[1]\n",
    "```\n",
    "\n",
    "With this function defined, you could create a `FileIndexer` over the files in the current directory like so:\n",
    "\n",
    "```python\n",
    "from fractionalindex import FileIndexer\n",
    "\n",
    "nfi = NamedFileIndexer(dir='.', name_to_key=get_filekey) # init the indexer\n",
    "```\n",
    "\n",
    "And you'd add a new file between the existing files \"myfile-a0.txt\" and \"update-b0.txt\", like so:\n",
    "\n",
    "```python\n",
    "newfile_key = nfi.insert(after=\"myfile-a0.txt\",\n",
    "                         before=\"update-b0.txt\") # generate the new key\n",
    "newfile_name = f\"myfile-{newfile_key}\"           # create the file name\n",
    "Path(newfile_name).touch()                       # add a file to the directory\n",
    "```\n",
    "\n",
    "As with the database example, you are responsible creating the file. The indexer just provides the key to use in naming it."
   ]
  },
  {
   "cell_type": "markdown",
   "id": "cf6e245f",
   "metadata": {},
   "source": [
    "## Extending to other resources\n",
    "\n",
    "If you want to extend this library to create a new kind of indexer, the working model to keep in mind is fairly simple:\n",
    "\n",
    "- the **Indexer** holds a reference to a **collection resource**, but does not modify it. \n",
    "- in the collection of items, every item has a **name**\n",
    "- The indexer takes those names, and generates **keys**.\n",
    "- internally, for each resource type, an **IndexAccessor** provides the first(), last(), before(), and after() accessors, which take names and return names\n"
   ]
  },
  {
   "cell_type": "code",
   "execution_count": null,
   "id": "e3d91f0b",
   "metadata": {},
   "outputs": [],
   "source": []
  },
  {
   "cell_type": "markdown",
   "id": "f4929f54",
   "metadata": {},
   "source": [
    "## fractional_indexing\n",
    "\n",
    "This is a review of the underlying dependency library, used for generating fractional indexes"
   ]
  },
  {
   "cell_type": "markdown",
   "id": "449fd860",
   "metadata": {},
   "source": [
    "To review, the `fractional-indexing` pypi package provides primitives for generating and validating keys. The key-generating function takes two params, which are interpreted a bit like the components of a slice, in designating either zone between two existing indexes, or else defining the zone before or after an index"
   ]
  },
  {
   "cell_type": "code",
   "execution_count": 1,
   "id": "d01b43c7",
   "metadata": {},
   "outputs": [],
   "source": [
    "from fractional_indexing import generate_key_between\n",
    "first = generate_key_between(None,None)"
   ]
  },
  {
   "cell_type": "code",
   "execution_count": 2,
   "id": "893d87a4",
   "metadata": {},
   "outputs": [
    {
     "data": {
      "text/plain": [
       "'a0'"
      ]
     },
     "execution_count": 2,
     "metadata": {},
     "output_type": "execute_result"
    }
   ],
   "source": [
    "first"
   ]
  },
  {
   "cell_type": "code",
   "execution_count": 3,
   "id": "0603cf01",
   "metadata": {},
   "outputs": [
    {
     "data": {
      "text/plain": [
       "'a1'"
      ]
     },
     "execution_count": 3,
     "metadata": {},
     "output_type": "execute_result"
    }
   ],
   "source": [
    "second = generate_key_between(first,None)\n",
    "second"
   ]
  },
  {
   "cell_type": "code",
   "execution_count": 8,
   "id": "ed188089",
   "metadata": {},
   "outputs": [
    {
     "data": {
      "text/plain": [
       "'a2'"
      ]
     },
     "execution_count": 8,
     "metadata": {},
     "output_type": "execute_result"
    }
   ],
   "source": [
    "third = generate_key_between(second,None)\n",
    "third"
   ]
  },
  {
   "cell_type": "markdown",
   "id": "d029975c",
   "metadata": {},
   "source": [
    "The keys are strings and their lexicographic sort order is their index order:"
   ]
  },
  {
   "cell_type": "code",
   "execution_count": 7,
   "id": "7727f4d6",
   "metadata": {},
   "outputs": [
    {
     "data": {
      "text/plain": [
       "True"
      ]
     },
     "execution_count": 7,
     "metadata": {},
     "output_type": "execute_result"
    }
   ],
   "source": [
    "[first,second,third] == sorted([first,second,third])"
   ]
  },
  {
   "cell_type": "markdown",
   "id": "56fec49a",
   "metadata": {},
   "source": [
    "**Q: What about ambiguous specifications?** Like asking for a key between second-third vs simply after second?"
   ]
  },
  {
   "cell_type": "code",
   "execution_count": 11,
   "id": "3ca16f55",
   "metadata": {},
   "outputs": [
    {
     "data": {
      "text/plain": [
       "'a1V'"
      ]
     },
     "execution_count": 11,
     "metadata": {},
     "output_type": "execute_result"
    }
   ],
   "source": [
    "generate_key_between(second,third)"
   ]
  },
  {
   "cell_type": "code",
   "execution_count": 12,
   "id": "289b4ca2",
   "metadata": {},
   "outputs": [
    {
     "data": {
      "text/plain": [
       "'a2'"
      ]
     },
     "execution_count": 12,
     "metadata": {},
     "output_type": "execute_result"
    }
   ],
   "source": [
    "generate_key_between(second,None)"
   ]
  },
  {
   "cell_type": "markdown",
   "id": "a705b846",
   "metadata": {},
   "source": [
    "**Note regarding state**: The library is not managing a stateful collection of the keys which have been created. It only defining how one key values depend on each other. So generating repeatedly will always produce the same value."
   ]
  },
  {
   "cell_type": "code",
   "execution_count": 9,
   "id": "f1b69640",
   "metadata": {},
   "outputs": [
    {
     "data": {
      "text/plain": [
       "True"
      ]
     },
     "execution_count": 9,
     "metadata": {},
     "output_type": "execute_result"
    }
   ],
   "source": [
    "[generate_key_between(second,None) for _ in range(10)][0]  == generate_key_between(second,None)"
   ]
  },
  {
   "cell_type": "code",
   "execution_count": 10,
   "id": "84f65ee5",
   "metadata": {},
   "outputs": [
    {
     "data": {
      "text/plain": [
       "['a0', 'a1', 'a2']"
      ]
     },
     "execution_count": 10,
     "metadata": {},
     "output_type": "execute_result"
    }
   ],
   "source": [
    "[first,second,third]"
   ]
  }
 ],
 "metadata": {
  "kernelspec": {
   "display_name": "Python 3 (ipykernel)",
   "language": "python",
   "name": "python3"
  },
  "language_info": {
   "codemirror_mode": {
    "name": "ipython",
    "version": 3
   },
   "file_extension": ".py",
   "mimetype": "text/x-python",
   "name": "python",
   "nbconvert_exporter": "python",
   "pygments_lexer": "ipython3",
   "version": "3.12.8"
  }
 },
 "nbformat": 4,
 "nbformat_minor": 5
}
